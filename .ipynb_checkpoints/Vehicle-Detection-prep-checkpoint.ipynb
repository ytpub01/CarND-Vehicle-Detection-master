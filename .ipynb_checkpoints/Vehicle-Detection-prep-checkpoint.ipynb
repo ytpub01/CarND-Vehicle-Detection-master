{
 "cells": [
  {
   "cell_type": "code",
   "execution_count": null,
   "metadata": {
    "collapsed": true
   },
   "outputs": [],
   "source": [
    "count = 0\n",
    "plt.axis('Off')\n",
    "def process_image(img):\n",
    "    global count\n",
    "    count += 1\n",
    "    out_file = './input_images/project_vid'+str(count).zfill(4)\n",
    "    out_img = Image.fromarray(img)\n",
    "    out_img.save(out_file+'.jpg', \"JPEG\")\n",
    "    return img\n",
    "\n",
    "clip = VideoFileClip('project_video.mp4')\n",
    "out_clip = clip.fl_image(process_image)\n",
    "%time out_clip.write_videofile('project_video_input.mp4', audio=False)"
   ]
  }
 ],
 "metadata": {
  "kernelspec": {
   "display_name": "Python 3",
   "language": "python",
   "name": "python3"
  },
  "language_info": {
   "codemirror_mode": {
    "name": "ipython",
    "version": 3
   },
   "file_extension": ".py",
   "mimetype": "text/x-python",
   "name": "python",
   "nbconvert_exporter": "python",
   "pygments_lexer": "ipython3",
   "version": "3.5.2"
  },
  "widgets": {
   "state": {},
   "version": "1.1.2"
  }
 },
 "nbformat": 4,
 "nbformat_minor": 2
}
